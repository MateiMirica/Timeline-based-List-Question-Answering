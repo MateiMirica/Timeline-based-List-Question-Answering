{
 "cells": [
  {
   "metadata": {
    "ExecuteTime": {
     "end_time": "2024-12-08T18:09:02.524285Z",
     "start_time": "2024-12-08T18:09:02.502841Z"
    }
   },
   "cell_type": "code",
   "source": [
    "import importlib\n",
    "import components.TLQAEvaluation\n",
    "\n",
    "# Reload the module\n",
    "importlib.reload(components.TLQAEvaluation)\n",
    "\n",
    "# Now you can use TLQAEvaluation with the latest changes\n",
    "from components.TLQAEvaluation import *\n",
    "import os"
   ],
   "id": "5ab1b3d4d394cb52",
   "outputs": [],
   "execution_count": 24
  },
  {
   "metadata": {
    "ExecuteTime": {
     "end_time": "2024-12-08T18:09:03.831731Z",
     "start_time": "2024-12-08T18:09:02.528857Z"
    }
   },
   "cell_type": "code",
   "source": "TLQAEvaluation = TLQAEvaluation(\"./../data/test_TLQA.json\")",
   "id": "ea9485e271a8027f",
   "outputs": [],
   "execution_count": 25
  },
  {
   "metadata": {
    "ExecuteTime": {
     "end_time": "2024-12-08T18:09:04.524846Z",
     "start_time": "2024-12-08T18:09:03.848940Z"
    }
   },
   "cell_type": "code",
   "source": [
    "# Path to the results folder\n",
    "folder_path = '.\\\\..\\\\results'\n",
    "\n",
    "\n",
    "for file_name in os.listdir(folder_path):\n",
    "    # Construct the full file path\n",
    "    file_path = os.path.join(folder_path, file_name)\n",
    "\n",
    "    # Take all .json files\n",
    "    if os.path.isfile(file_path) and file_name.endswith('.csv'):\n",
    "        print(f\"Processing file: {file_path}\")\n",
    "\n",
    "        try:\n",
    "            actual = TLQAEvaluation.read_csv_output(file_path)\n",
    "        except UnicodeDecodeError as e:\n",
    "            print(f\"Error processing file: {file_path}\")\n",
    "            print(f\"Error details: {e}\")\n",
    "            continue  # Skip the problematic file\n",
    "\n",
    "        result = TLQAEvaluation.evaluate(\n",
    "            predictions=actual.to_dict(orient=\"records\"),  # Convert DataFrame to a list of dictionaries\n",
    "            metric=\"exact_match\",\n",
    "            normalize=True\n",
    "        )\n",
    "\n",
    "        print(result)"
   ],
   "id": "62cf471c9634f978",
   "outputs": [
    {
     "name": "stdout",
     "output_type": "stream",
     "text": [
      "Processing file: .\\..\\results\\few_shot_knn_10_large.csv\n",
      "0\n",
      "Processing file: .\\..\\results\\few_shot_knn_10_large_finetuned.csv\n",
      "0\n",
      "Processing file: .\\..\\results\\few_shot_knn_3_large.csv\n",
      "0\n",
      "Processing file: .\\..\\results\\few_shot_knn_3_large_finetuned.csv\n",
      "0\n",
      "Processing file: .\\..\\results\\few_shot_knn_5_large.csv\n",
      "0\n",
      "Processing file: .\\..\\results\\few_shot_knn_5_large_finetuned.csv\n",
      "0\n",
      "Processing file: .\\..\\results\\few_shot_knn_7_large.csv\n",
      "0\n",
      "Processing file: .\\..\\results\\few_shot_knn_7_large_finetuned.csv\n",
      "0\n",
      "Processing file: .\\..\\results\\few_shot_knn_7_xl.csv\n",
      "0\n"
     ]
    }
   ],
   "execution_count": 26
  }
 ],
 "metadata": {
  "kernelspec": {
   "name": "python3",
   "language": "python",
   "display_name": "Python 3 (ipykernel)"
  }
 },
 "nbformat": 5,
 "nbformat_minor": 9
}
