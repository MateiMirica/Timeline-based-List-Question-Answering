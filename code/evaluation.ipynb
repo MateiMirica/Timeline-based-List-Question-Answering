{
 "cells": [
  {
   "metadata": {
    "ExecuteTime": {
     "end_time": "2025-01-11T14:38:15.170727Z",
     "start_time": "2025-01-11T14:37:46.513998700Z"
    }
   },
   "cell_type": "code",
   "source": [
    "import importlib\n",
    "import components.TLQAEvaluation\n",
    "\n",
    "# Reload the module\n",
    "importlib.reload(components.TLQAEvaluation)\n",
    "\n",
    "# Now you can use TLQAEvaluation with the latest changes\n",
    "from components.TLQAEvaluation import *\n",
    "import os"
   ],
   "id": "5ab1b3d4d394cb52",
   "outputs": [],
   "execution_count": 1
  },
  {
   "metadata": {
    "ExecuteTime": {
     "end_time": "2025-01-11T14:38:19.459965300Z",
     "start_time": "2025-01-11T14:38:15.168730200Z"
    }
   },
   "cell_type": "code",
   "source": [
    "TLQAEvaluation = TLQAEvaluation(\"./../data/test_TLQA.json\")"
   ],
   "id": "ea9485e271a8027f",
   "outputs": [],
   "execution_count": 2
  },
  {
   "metadata": {
    "ExecuteTime": {
     "end_time": "2025-01-11T14:50:45.528957200Z",
     "start_time": "2025-01-11T14:38:19.470936300Z"
    }
   },
   "cell_type": "code",
   "source": [
    "# Path to the results folder\n",
    "folder_path = '.\\\\..\\\\results'\n",
    "\n",
    "# List of all metrics\n",
    "metrics = {\n",
    "    \"rouge\": TLQAEvaluation.rouge_scores,\n",
    "    \"bleu\": TLQAEvaluation.bleu_score,\n",
    "    \"f1\": TLQAEvaluation.f1_score,\n",
    "    \"exact_match\": TLQAEvaluation.exact_match,\n",
    "    \"completeness\": TLQAEvaluation.completeness,\n",
    "    \"temporal_alignment\": TLQAEvaluation.temporal_alignment,\n",
    "    \"temporal_ordering\": TLQAEvaluation.temporal_ordering,\n",
    "}\n",
    "\n",
    "# Prepare a list to collect all results for saving to CSV\n",
    "all_results = []\n",
    "\n",
    "for file_name in os.listdir(folder_path):\n",
    "    # Construct the full file path\n",
    "    file_path = os.path.join(folder_path, file_name)\n",
    "\n",
    "    # Process all .csv files\n",
    "    if os.path.isfile(file_path) and file_name.endswith('.csv'):\n",
    "        print(f\"Processing file: {file_path}\")\n",
    "\n",
    "        try:\n",
    "            actual = TLQAEvaluation.read_csv_output(file_path)\n",
    "        except UnicodeDecodeError as e:\n",
    "            print(f\"Error processing file: {file_path}\")\n",
    "            print(f\"Error details: {e}\")\n",
    "            continue  # Skip the problematic file\n",
    "\n",
    "        # Dictionary to store results for this file\n",
    "        file_results = {\"file_name\": file_name}\n",
    "\n",
    "        for metric_name, metric_func in metrics.items():\n",
    "            try:\n",
    "                result = TLQAEvaluation.evaluate(\n",
    "                    predictions=actual.to_dict(orient=\"records\"),  # Convert DataFrame to a list of dictionaries\n",
    "                    metric=metric_name,\n",
    "                    normalize=True\n",
    "                )\n",
    "                file_results[metric_name] = result\n",
    "            except Exception as e:\n",
    "                print(f\"Error evaluating metric {metric_name} for file {file_path}: {e}\")\n",
    "                file_results[metric_name] = None  # Add None if evaluation fails\n",
    "\n",
    "        # Add the results for this file to the overall list\n",
    "        all_results.append(file_results)\n",
    "\n",
    "# Convert the results to a DataFrame\n",
    "results_df = pd.DataFrame(all_results)\n",
    "\n",
    "# Save the results to a CSV file\n",
    "output_csv_path = os.path.join(folder_path, \"evaluation_results.csv\")\n",
    "results_df.to_csv(output_csv_path, index=False)\n",
    "\n",
    "print(f\"All metrics saved to {output_csv_path}\")"
   ],
   "id": "62cf471c9634f978",
   "outputs": [
    {
     "name": "stdout",
     "output_type": "stream",
     "text": [
      "Processing file: .\\..\\results\\evaluation_results.csv\n",
      "Error evaluating metric rouge for file .\\..\\results\\evaluation_results.csv: 'response'\n",
      "Error evaluating metric bleu for file .\\..\\results\\evaluation_results.csv: 'response'\n",
      "Error evaluating metric f1 for file .\\..\\results\\evaluation_results.csv: 'response'\n",
      "Error evaluating metric exact_match for file .\\..\\results\\evaluation_results.csv: 'response'\n",
      "Error evaluating metric completeness for file .\\..\\results\\evaluation_results.csv: 'response'\n",
      "Error evaluating metric temporal_alignment for file .\\..\\results\\evaluation_results.csv: 'response'\n",
      "Error evaluating metric temporal_ordering for file .\\..\\results\\evaluation_results.csv: 'response'\n",
      "Processing file: .\\..\\results\\few_shot_knn_10_base_finetuned.csv\n",
      "Processing file: .\\..\\results\\few_shot_knn_10_large.csv\n",
      "Processing file: .\\..\\results\\few_shot_knn_10_large_finetuned.csv\n",
      "Processing file: .\\..\\results\\few_shot_knn_10_xl.csv\n",
      "Processing file: .\\..\\results\\few_shot_knn_3_base_finetuned.csv\n",
      "Processing file: .\\..\\results\\few_shot_knn_3_large.csv\n",
      "Processing file: .\\..\\results\\few_shot_knn_3_large_finetuned.csv\n",
      "Processing file: .\\..\\results\\few_shot_knn_3_xl.csv\n",
      "Processing file: .\\..\\results\\few_shot_knn_5_base_finetuned.csv\n",
      "Processing file: .\\..\\results\\few_shot_knn_5_large.csv\n",
      "Processing file: .\\..\\results\\few_shot_knn_5_large_finetuned.csv\n",
      "Processing file: .\\..\\results\\few_shot_knn_5_xl.csv\n",
      "Error evaluating metric completeness for file .\\..\\results\\few_shot_knn_5_xl.csv: mat1 and mat2 shapes cannot be multiplied (1x0 and 384x2)\n",
      "Processing file: .\\..\\results\\few_shot_knn_7_base_finetuned.csv\n",
      "Processing file: .\\..\\results\\few_shot_knn_7_large.csv\n",
      "Processing file: .\\..\\results\\few_shot_knn_7_large_finetuned.csv\n",
      "Processing file: .\\..\\results\\few_shot_knn_7_xl.csv\n",
      "Error evaluating metric completeness for file .\\..\\results\\few_shot_knn_7_xl.csv: mat1 and mat2 shapes cannot be multiplied (1x0 and 384x9)\n",
      "Processing file: .\\..\\results\\rag_top_10_large.csv\n",
      "Processing file: .\\..\\results\\rag_top_10_xl.csv\n",
      "Error evaluating metric completeness for file .\\..\\results\\rag_top_10_xl.csv: mat1 and mat2 shapes cannot be multiplied (1x0 and 384x9)\n",
      "Processing file: .\\..\\results\\rag_top_1_large.csv\n",
      "Error evaluating metric completeness for file .\\..\\results\\rag_top_1_large.csv: mat1 and mat2 shapes cannot be multiplied (1x0 and 384x2)\n",
      "Processing file: .\\..\\results\\rag_top_1_xl.csv\n",
      "Error evaluating metric completeness for file .\\..\\results\\rag_top_1_xl.csv: mat1 and mat2 shapes cannot be multiplied (1x0 and 384x2)\n",
      "Processing file: .\\..\\results\\rag_top_3_large.csv\n",
      "Processing file: .\\..\\results\\rag_top_3_xl.csv\n",
      "Error evaluating metric completeness for file .\\..\\results\\rag_top_3_xl.csv: mat1 and mat2 shapes cannot be multiplied (1x0 and 384x4)\n",
      "Processing file: .\\..\\results\\rag_top_5_large.csv\n",
      "Processing file: .\\..\\results\\rag_top_5_xl.csv\n",
      "Error evaluating metric completeness for file .\\..\\results\\rag_top_5_xl.csv: mat1 and mat2 shapes cannot be multiplied (1x0 and 384x4)\n",
      "Processing file: .\\..\\results\\rag_top_7_large.csv\n",
      "Processing file: .\\..\\results\\rag_top_7_xl.csv\n",
      "Error evaluating metric completeness for file .\\..\\results\\rag_top_7_xl.csv: mat1 and mat2 shapes cannot be multiplied (1x0 and 384x9)\n",
      "Processing file: .\\..\\results\\zero_shot_base_finetuned.csv\n",
      "Processing file: .\\..\\results\\zero_shot_knn_large.csv\n",
      "Error evaluating metric completeness for file .\\..\\results\\zero_shot_knn_large.csv: mat1 and mat2 shapes cannot be multiplied (1x0 and 384x4)\n",
      "Processing file: .\\..\\results\\zero_shot_knn_xl.csv\n",
      "Error evaluating metric completeness for file .\\..\\results\\zero_shot_knn_xl.csv: mat1 and mat2 shapes cannot be multiplied (1x0 and 384x4)\n",
      "Processing file: .\\..\\results\\zero_shot_large_finetuned.csv\n",
      "All metrics saved to .\\..\\results\\evaluation_results.csv\n"
     ]
    }
   ],
   "execution_count": 3
  },
  {
   "metadata": {
    "ExecuteTime": {
     "end_time": "2025-01-11T14:50:47.667353Z",
     "start_time": "2025-01-11T14:50:45.528957200Z"
    }
   },
   "cell_type": "code",
   "source": [
    "import pandas as pd\n",
    "import matplotlib.pyplot as plt\n",
    "\n",
    "# Load data\n",
    "evaluation_results = pd.read_csv('./evaluation_results.csv')\n",
    "\n",
    "# Clean data for plotting\n",
    "numerical_metrics = [\"bleu\", \"completeness\", \"temporal_alignment\", \"temporal_ordering\"]\n",
    "parsed_data = evaluation_results[numerical_metrics]\n",
    "\n",
    "# Plot BLEU Scores\n",
    "plt.figure(figsize=(10, 6))\n",
    "plt.bar(evaluation_results['file_name'], evaluation_results['bleu'], color='skyblue')\n",
    "plt.xticks(rotation=90)\n",
    "plt.title('BLEU Scores by File')\n",
    "plt.ylabel('BLEU Score')\n",
    "plt.xlabel('Files')\n",
    "plt.tight_layout()\n",
    "plt.show()\n",
    "\n",
    "# Plot Completeness Scores\n",
    "plt.figure(figsize=(10, 6))\n",
    "plt.bar(evaluation_results['file_name'], evaluation_results['completeness'], color='orange')\n",
    "plt.xticks(rotation=90)\n",
    "plt.title('Completeness Scores by File')\n",
    "plt.ylabel('Completeness Score')\n",
    "plt.xlabel('Files')\n",
    "plt.tight_layout()\n",
    "plt.show()\n",
    "\n",
    "# Plot Temporal Alignment Scores\n",
    "plt.figure(figsize=(10, 6))\n",
    "plt.bar(evaluation_results['file_name'], evaluation_results['temporal_alignment'], color='green')\n",
    "plt.xticks(rotation=90)\n",
    "plt.title('Temporal Alignment Scores by File')\n",
    "plt.ylabel('Temporal Alignment Score')\n",
    "plt.xlabel('Files')\n",
    "plt.tight_layout()\n",
    "plt.show()\n",
    "\n",
    "# Plot Temporal Ordering Scores\n",
    "plt.figure(figsize=(10, 6))\n",
    "plt.bar(evaluation_results['file_name'], evaluation_results['temporal_ordering'], color='red')\n",
    "plt.xticks(rotation=90)\n",
    "plt.title('Temporal Ordering Scores by File')\n",
    "plt.ylabel('Temporal Ordering Score')\n",
    "plt.xlabel('Files')\n",
    "plt.tight_layout()\n",
    "plt.show()\n"
   ],
   "id": "db58e401fc996055",
   "outputs": [
    {
     "ename": "FileNotFoundError",
     "evalue": "[Errno 2] No such file or directory: './evaluation_results.csv'",
     "output_type": "error",
     "traceback": [
      "\u001B[1;31m---------------------------------------------------------------------------\u001B[0m",
      "\u001B[1;31mFileNotFoundError\u001B[0m                         Traceback (most recent call last)",
      "Cell \u001B[1;32mIn[4], line 5\u001B[0m\n\u001B[0;32m      2\u001B[0m \u001B[38;5;28;01mimport\u001B[39;00m \u001B[38;5;21;01mmatplotlib\u001B[39;00m\u001B[38;5;21;01m.\u001B[39;00m\u001B[38;5;21;01mpyplot\u001B[39;00m \u001B[38;5;28;01mas\u001B[39;00m \u001B[38;5;21;01mplt\u001B[39;00m\n\u001B[0;32m      4\u001B[0m \u001B[38;5;66;03m# Load data\u001B[39;00m\n\u001B[1;32m----> 5\u001B[0m evaluation_results \u001B[38;5;241m=\u001B[39m \u001B[43mpd\u001B[49m\u001B[38;5;241;43m.\u001B[39;49m\u001B[43mread_csv\u001B[49m\u001B[43m(\u001B[49m\u001B[38;5;124;43m'\u001B[39;49m\u001B[38;5;124;43m./evaluation_results.csv\u001B[39;49m\u001B[38;5;124;43m'\u001B[39;49m\u001B[43m)\u001B[49m\n\u001B[0;32m      7\u001B[0m \u001B[38;5;66;03m# Clean data for plotting\u001B[39;00m\n\u001B[0;32m      8\u001B[0m numerical_metrics \u001B[38;5;241m=\u001B[39m [\u001B[38;5;124m\"\u001B[39m\u001B[38;5;124mbleu\u001B[39m\u001B[38;5;124m\"\u001B[39m, \u001B[38;5;124m\"\u001B[39m\u001B[38;5;124mcompleteness\u001B[39m\u001B[38;5;124m\"\u001B[39m, \u001B[38;5;124m\"\u001B[39m\u001B[38;5;124mtemporal_alignment\u001B[39m\u001B[38;5;124m\"\u001B[39m, \u001B[38;5;124m\"\u001B[39m\u001B[38;5;124mtemporal_ordering\u001B[39m\u001B[38;5;124m\"\u001B[39m]\n",
      "File \u001B[1;32m~\\Desktop\\NLP\\Timeline-based-List-Question-Answering\\envv\\Lib\\site-packages\\pandas\\io\\parsers\\readers.py:948\u001B[0m, in \u001B[0;36mread_csv\u001B[1;34m(filepath_or_buffer, sep, delimiter, header, names, index_col, usecols, dtype, engine, converters, true_values, false_values, skipinitialspace, skiprows, skipfooter, nrows, na_values, keep_default_na, na_filter, verbose, skip_blank_lines, parse_dates, infer_datetime_format, keep_date_col, date_parser, date_format, dayfirst, cache_dates, iterator, chunksize, compression, thousands, decimal, lineterminator, quotechar, quoting, doublequote, escapechar, comment, encoding, encoding_errors, dialect, on_bad_lines, delim_whitespace, low_memory, memory_map, float_precision, storage_options, dtype_backend)\u001B[0m\n\u001B[0;32m    935\u001B[0m kwds_defaults \u001B[38;5;241m=\u001B[39m _refine_defaults_read(\n\u001B[0;32m    936\u001B[0m     dialect,\n\u001B[0;32m    937\u001B[0m     delimiter,\n\u001B[1;32m   (...)\u001B[0m\n\u001B[0;32m    944\u001B[0m     dtype_backend\u001B[38;5;241m=\u001B[39mdtype_backend,\n\u001B[0;32m    945\u001B[0m )\n\u001B[0;32m    946\u001B[0m kwds\u001B[38;5;241m.\u001B[39mupdate(kwds_defaults)\n\u001B[1;32m--> 948\u001B[0m \u001B[38;5;28;01mreturn\u001B[39;00m \u001B[43m_read\u001B[49m\u001B[43m(\u001B[49m\u001B[43mfilepath_or_buffer\u001B[49m\u001B[43m,\u001B[49m\u001B[43m \u001B[49m\u001B[43mkwds\u001B[49m\u001B[43m)\u001B[49m\n",
      "File \u001B[1;32m~\\Desktop\\NLP\\Timeline-based-List-Question-Answering\\envv\\Lib\\site-packages\\pandas\\io\\parsers\\readers.py:611\u001B[0m, in \u001B[0;36m_read\u001B[1;34m(filepath_or_buffer, kwds)\u001B[0m\n\u001B[0;32m    608\u001B[0m _validate_names(kwds\u001B[38;5;241m.\u001B[39mget(\u001B[38;5;124m\"\u001B[39m\u001B[38;5;124mnames\u001B[39m\u001B[38;5;124m\"\u001B[39m, \u001B[38;5;28;01mNone\u001B[39;00m))\n\u001B[0;32m    610\u001B[0m \u001B[38;5;66;03m# Create the parser.\u001B[39;00m\n\u001B[1;32m--> 611\u001B[0m parser \u001B[38;5;241m=\u001B[39m \u001B[43mTextFileReader\u001B[49m\u001B[43m(\u001B[49m\u001B[43mfilepath_or_buffer\u001B[49m\u001B[43m,\u001B[49m\u001B[43m \u001B[49m\u001B[38;5;241;43m*\u001B[39;49m\u001B[38;5;241;43m*\u001B[39;49m\u001B[43mkwds\u001B[49m\u001B[43m)\u001B[49m\n\u001B[0;32m    613\u001B[0m \u001B[38;5;28;01mif\u001B[39;00m chunksize \u001B[38;5;129;01mor\u001B[39;00m iterator:\n\u001B[0;32m    614\u001B[0m     \u001B[38;5;28;01mreturn\u001B[39;00m parser\n",
      "File \u001B[1;32m~\\Desktop\\NLP\\Timeline-based-List-Question-Answering\\envv\\Lib\\site-packages\\pandas\\io\\parsers\\readers.py:1448\u001B[0m, in \u001B[0;36mTextFileReader.__init__\u001B[1;34m(self, f, engine, **kwds)\u001B[0m\n\u001B[0;32m   1445\u001B[0m     \u001B[38;5;28mself\u001B[39m\u001B[38;5;241m.\u001B[39moptions[\u001B[38;5;124m\"\u001B[39m\u001B[38;5;124mhas_index_names\u001B[39m\u001B[38;5;124m\"\u001B[39m] \u001B[38;5;241m=\u001B[39m kwds[\u001B[38;5;124m\"\u001B[39m\u001B[38;5;124mhas_index_names\u001B[39m\u001B[38;5;124m\"\u001B[39m]\n\u001B[0;32m   1447\u001B[0m \u001B[38;5;28mself\u001B[39m\u001B[38;5;241m.\u001B[39mhandles: IOHandles \u001B[38;5;241m|\u001B[39m \u001B[38;5;28;01mNone\u001B[39;00m \u001B[38;5;241m=\u001B[39m \u001B[38;5;28;01mNone\u001B[39;00m\n\u001B[1;32m-> 1448\u001B[0m \u001B[38;5;28mself\u001B[39m\u001B[38;5;241m.\u001B[39m_engine \u001B[38;5;241m=\u001B[39m \u001B[38;5;28;43mself\u001B[39;49m\u001B[38;5;241;43m.\u001B[39;49m\u001B[43m_make_engine\u001B[49m\u001B[43m(\u001B[49m\u001B[43mf\u001B[49m\u001B[43m,\u001B[49m\u001B[43m \u001B[49m\u001B[38;5;28;43mself\u001B[39;49m\u001B[38;5;241;43m.\u001B[39;49m\u001B[43mengine\u001B[49m\u001B[43m)\u001B[49m\n",
      "File \u001B[1;32m~\\Desktop\\NLP\\Timeline-based-List-Question-Answering\\envv\\Lib\\site-packages\\pandas\\io\\parsers\\readers.py:1705\u001B[0m, in \u001B[0;36mTextFileReader._make_engine\u001B[1;34m(self, f, engine)\u001B[0m\n\u001B[0;32m   1703\u001B[0m     \u001B[38;5;28;01mif\u001B[39;00m \u001B[38;5;124m\"\u001B[39m\u001B[38;5;124mb\u001B[39m\u001B[38;5;124m\"\u001B[39m \u001B[38;5;129;01mnot\u001B[39;00m \u001B[38;5;129;01min\u001B[39;00m mode:\n\u001B[0;32m   1704\u001B[0m         mode \u001B[38;5;241m+\u001B[39m\u001B[38;5;241m=\u001B[39m \u001B[38;5;124m\"\u001B[39m\u001B[38;5;124mb\u001B[39m\u001B[38;5;124m\"\u001B[39m\n\u001B[1;32m-> 1705\u001B[0m \u001B[38;5;28mself\u001B[39m\u001B[38;5;241m.\u001B[39mhandles \u001B[38;5;241m=\u001B[39m \u001B[43mget_handle\u001B[49m\u001B[43m(\u001B[49m\n\u001B[0;32m   1706\u001B[0m \u001B[43m    \u001B[49m\u001B[43mf\u001B[49m\u001B[43m,\u001B[49m\n\u001B[0;32m   1707\u001B[0m \u001B[43m    \u001B[49m\u001B[43mmode\u001B[49m\u001B[43m,\u001B[49m\n\u001B[0;32m   1708\u001B[0m \u001B[43m    \u001B[49m\u001B[43mencoding\u001B[49m\u001B[38;5;241;43m=\u001B[39;49m\u001B[38;5;28;43mself\u001B[39;49m\u001B[38;5;241;43m.\u001B[39;49m\u001B[43moptions\u001B[49m\u001B[38;5;241;43m.\u001B[39;49m\u001B[43mget\u001B[49m\u001B[43m(\u001B[49m\u001B[38;5;124;43m\"\u001B[39;49m\u001B[38;5;124;43mencoding\u001B[39;49m\u001B[38;5;124;43m\"\u001B[39;49m\u001B[43m,\u001B[49m\u001B[43m \u001B[49m\u001B[38;5;28;43;01mNone\u001B[39;49;00m\u001B[43m)\u001B[49m\u001B[43m,\u001B[49m\n\u001B[0;32m   1709\u001B[0m \u001B[43m    \u001B[49m\u001B[43mcompression\u001B[49m\u001B[38;5;241;43m=\u001B[39;49m\u001B[38;5;28;43mself\u001B[39;49m\u001B[38;5;241;43m.\u001B[39;49m\u001B[43moptions\u001B[49m\u001B[38;5;241;43m.\u001B[39;49m\u001B[43mget\u001B[49m\u001B[43m(\u001B[49m\u001B[38;5;124;43m\"\u001B[39;49m\u001B[38;5;124;43mcompression\u001B[39;49m\u001B[38;5;124;43m\"\u001B[39;49m\u001B[43m,\u001B[49m\u001B[43m \u001B[49m\u001B[38;5;28;43;01mNone\u001B[39;49;00m\u001B[43m)\u001B[49m\u001B[43m,\u001B[49m\n\u001B[0;32m   1710\u001B[0m \u001B[43m    \u001B[49m\u001B[43mmemory_map\u001B[49m\u001B[38;5;241;43m=\u001B[39;49m\u001B[38;5;28;43mself\u001B[39;49m\u001B[38;5;241;43m.\u001B[39;49m\u001B[43moptions\u001B[49m\u001B[38;5;241;43m.\u001B[39;49m\u001B[43mget\u001B[49m\u001B[43m(\u001B[49m\u001B[38;5;124;43m\"\u001B[39;49m\u001B[38;5;124;43mmemory_map\u001B[39;49m\u001B[38;5;124;43m\"\u001B[39;49m\u001B[43m,\u001B[49m\u001B[43m \u001B[49m\u001B[38;5;28;43;01mFalse\u001B[39;49;00m\u001B[43m)\u001B[49m\u001B[43m,\u001B[49m\n\u001B[0;32m   1711\u001B[0m \u001B[43m    \u001B[49m\u001B[43mis_text\u001B[49m\u001B[38;5;241;43m=\u001B[39;49m\u001B[43mis_text\u001B[49m\u001B[43m,\u001B[49m\n\u001B[0;32m   1712\u001B[0m \u001B[43m    \u001B[49m\u001B[43merrors\u001B[49m\u001B[38;5;241;43m=\u001B[39;49m\u001B[38;5;28;43mself\u001B[39;49m\u001B[38;5;241;43m.\u001B[39;49m\u001B[43moptions\u001B[49m\u001B[38;5;241;43m.\u001B[39;49m\u001B[43mget\u001B[49m\u001B[43m(\u001B[49m\u001B[38;5;124;43m\"\u001B[39;49m\u001B[38;5;124;43mencoding_errors\u001B[39;49m\u001B[38;5;124;43m\"\u001B[39;49m\u001B[43m,\u001B[49m\u001B[43m \u001B[49m\u001B[38;5;124;43m\"\u001B[39;49m\u001B[38;5;124;43mstrict\u001B[39;49m\u001B[38;5;124;43m\"\u001B[39;49m\u001B[43m)\u001B[49m\u001B[43m,\u001B[49m\n\u001B[0;32m   1713\u001B[0m \u001B[43m    \u001B[49m\u001B[43mstorage_options\u001B[49m\u001B[38;5;241;43m=\u001B[39;49m\u001B[38;5;28;43mself\u001B[39;49m\u001B[38;5;241;43m.\u001B[39;49m\u001B[43moptions\u001B[49m\u001B[38;5;241;43m.\u001B[39;49m\u001B[43mget\u001B[49m\u001B[43m(\u001B[49m\u001B[38;5;124;43m\"\u001B[39;49m\u001B[38;5;124;43mstorage_options\u001B[39;49m\u001B[38;5;124;43m\"\u001B[39;49m\u001B[43m,\u001B[49m\u001B[43m \u001B[49m\u001B[38;5;28;43;01mNone\u001B[39;49;00m\u001B[43m)\u001B[49m\u001B[43m,\u001B[49m\n\u001B[0;32m   1714\u001B[0m \u001B[43m\u001B[49m\u001B[43m)\u001B[49m\n\u001B[0;32m   1715\u001B[0m \u001B[38;5;28;01massert\u001B[39;00m \u001B[38;5;28mself\u001B[39m\u001B[38;5;241m.\u001B[39mhandles \u001B[38;5;129;01mis\u001B[39;00m \u001B[38;5;129;01mnot\u001B[39;00m \u001B[38;5;28;01mNone\u001B[39;00m\n\u001B[0;32m   1716\u001B[0m f \u001B[38;5;241m=\u001B[39m \u001B[38;5;28mself\u001B[39m\u001B[38;5;241m.\u001B[39mhandles\u001B[38;5;241m.\u001B[39mhandle\n",
      "File \u001B[1;32m~\\Desktop\\NLP\\Timeline-based-List-Question-Answering\\envv\\Lib\\site-packages\\pandas\\io\\common.py:863\u001B[0m, in \u001B[0;36mget_handle\u001B[1;34m(path_or_buf, mode, encoding, compression, memory_map, is_text, errors, storage_options)\u001B[0m\n\u001B[0;32m    858\u001B[0m \u001B[38;5;28;01melif\u001B[39;00m \u001B[38;5;28misinstance\u001B[39m(handle, \u001B[38;5;28mstr\u001B[39m):\n\u001B[0;32m    859\u001B[0m     \u001B[38;5;66;03m# Check whether the filename is to be opened in binary mode.\u001B[39;00m\n\u001B[0;32m    860\u001B[0m     \u001B[38;5;66;03m# Binary mode does not support 'encoding' and 'newline'.\u001B[39;00m\n\u001B[0;32m    861\u001B[0m     \u001B[38;5;28;01mif\u001B[39;00m ioargs\u001B[38;5;241m.\u001B[39mencoding \u001B[38;5;129;01mand\u001B[39;00m \u001B[38;5;124m\"\u001B[39m\u001B[38;5;124mb\u001B[39m\u001B[38;5;124m\"\u001B[39m \u001B[38;5;129;01mnot\u001B[39;00m \u001B[38;5;129;01min\u001B[39;00m ioargs\u001B[38;5;241m.\u001B[39mmode:\n\u001B[0;32m    862\u001B[0m         \u001B[38;5;66;03m# Encoding\u001B[39;00m\n\u001B[1;32m--> 863\u001B[0m         handle \u001B[38;5;241m=\u001B[39m \u001B[38;5;28mopen\u001B[39m(\n\u001B[0;32m    864\u001B[0m             handle,\n\u001B[0;32m    865\u001B[0m             ioargs\u001B[38;5;241m.\u001B[39mmode,\n\u001B[0;32m    866\u001B[0m             encoding\u001B[38;5;241m=\u001B[39mioargs\u001B[38;5;241m.\u001B[39mencoding,\n\u001B[0;32m    867\u001B[0m             errors\u001B[38;5;241m=\u001B[39merrors,\n\u001B[0;32m    868\u001B[0m             newline\u001B[38;5;241m=\u001B[39m\u001B[38;5;124m\"\u001B[39m\u001B[38;5;124m\"\u001B[39m,\n\u001B[0;32m    869\u001B[0m         )\n\u001B[0;32m    870\u001B[0m     \u001B[38;5;28;01melse\u001B[39;00m:\n\u001B[0;32m    871\u001B[0m         \u001B[38;5;66;03m# Binary mode\u001B[39;00m\n\u001B[0;32m    872\u001B[0m         handle \u001B[38;5;241m=\u001B[39m \u001B[38;5;28mopen\u001B[39m(handle, ioargs\u001B[38;5;241m.\u001B[39mmode)\n",
      "\u001B[1;31mFileNotFoundError\u001B[0m: [Errno 2] No such file or directory: './evaluation_results.csv'"
     ]
    }
   ],
   "execution_count": 4
  }
 ],
 "metadata": {
  "kernelspec": {
   "name": "python3",
   "language": "python",
   "display_name": "Python 3 (ipykernel)"
  }
 },
 "nbformat": 5,
 "nbformat_minor": 9
}
