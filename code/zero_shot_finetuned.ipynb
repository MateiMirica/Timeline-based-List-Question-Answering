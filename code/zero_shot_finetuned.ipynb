{
 "cells": [
  {
   "cell_type": "code",
   "execution_count": 2,
   "metadata": {
    "collapsed": true,
    "ExecuteTime": {
     "end_time": "2024-12-08T12:16:02.607394800Z",
     "start_time": "2024-12-08T12:15:47.400854200Z"
    }
   },
   "outputs": [],
   "source": [
    "import json\n",
    "import os\n",
    "import pandas as pd\n",
    "from transformers import AutoTokenizer, T5ForConditionalGeneration\n",
    "from transformers import pipeline\n",
    "from datasets import Dataset\n",
    "from huggingface_hub import login\n",
    "from dotenv import load_dotenv"
   ]
  },
  {
   "cell_type": "code",
   "execution_count": null,
   "outputs": [],
   "source": [
    "# in order to load the model to hugging face we need the personal token\n",
    "# This is also need when loading the model\n",
    "# Uncomment if you are using Google Colab\n",
    "# from google.colab import userdata\n",
    "#\n",
    "# login(token=userdata.get('HF_TOKEN'))\n",
    "load_dotenv()  # Load variables from the .env file\n",
    "secret_token = os.getenv(\"HF_TOKEN\")\n",
    "login(token=secret_token)"
   ],
   "metadata": {
    "collapsed": false
   }
  },
  {
   "cell_type": "code",
   "execution_count": 3,
   "outputs": [],
   "source": [
    "# Load the test set\n",
    "with open('../data/test_TLQA.json', 'r') as f:\n",
    "    test_data = json.load(f)\n",
    "\n",
    "# Load the train set\n",
    "with open('../data/train_TLQA.json', 'r') as f:\n",
    "    train_data = json.load(f)\n",
    "\n",
    "# Get the necessary details from the input\n",
    "def prepare_dataset(data):\n",
    "    questions, answers = [], []\n",
    "    for item in data:\n",
    "        question = item['question']\n",
    "        answer = '; '.join(item['final_answers'])\n",
    "        questions.append(question)\n",
    "        answers.append(answer)\n",
    "    return {\"question\": questions, \"answer\": answers}\n",
    "\n",
    "test_dataset_dict = prepare_dataset(test_data)\n",
    "test_dataset = Dataset.from_dict(test_dataset_dict)\n",
    "\n",
    "train_dataset_dict = prepare_dataset(train_data)\n",
    "train_dataset = Dataset.from_dict(train_dataset_dict)\n",
    "\n",
    "# Create a new DataFrame\n",
    "df = pd.DataFrame()\n",
    "df[\"question\"] = test_dataset_dict[\"question\"]\n",
    "df[\"answer\"] = test_dataset_dict[\"answer\"]"
   ],
   "metadata": {
    "collapsed": false,
    "ExecuteTime": {
     "end_time": "2024-12-08T12:16:04.822644100Z",
     "start_time": "2024-12-08T12:16:04.726025800Z"
    }
   }
  },
  {
   "cell_type": "code",
   "execution_count": null,
   "outputs": [],
   "source": [
    "hub_repo = \"Ana091202/flan_t5_timeline_qa\"\n",
    "# hub_repo = \"Ana091202/flan_t5_base_timeline_qa\"\n",
    "model = \"large\"\n",
    "\n",
    "tokenizer = AutoTokenizer.from_pretrained(hub_repo)\n",
    "finetuned_model = T5ForConditionalGeneration.from_pretrained(hub_repo)\n",
    "\n",
    "pipe = pipeline(\n",
    "    \"text2text-generation\",\n",
    "    model=finetuned_model, max_new_tokens=256,\n",
    "    tokenizer=tokenizer,\n",
    "    do_sample=True,\n",
    "    temperature=1e-5,\n",
    "    top_p=0.9,\n",
    "    device=0\n",
    ")\n",
    "\n",
    "results = []\n",
    "\n",
    "# Prompt for each instance in the test set\n",
    "for prompt_question in df[\"question\"]:\n",
    "    # Select few shot examples using the knn classifier\n",
    "    prompt = f\"\"\"\n",
    "    Generate a timeline-based answer for the following question by listing all entities, events, or attributes associated with the specified subject and time range. Ensure the output is in a structured, ordered format that reflects the temporal sequence accurately.\n",
    "\n",
    "    Question: {prompt_question}\n",
    "    Answer:\n",
    "    \"\"\"\n",
    "\n",
    "    generated_response = pipe(prompt.strip())[0]['generated_text']\n",
    "\n",
    "    results.append({\n",
    "        \"question\": prompt_question,\n",
    "        \"response\": generated_response,\n",
    "    })\n",
    "\n",
    "results_df = pd.DataFrame(results)\n",
    "\n",
    "results_df.to_csv(f\"zero_shot_{model}_finetuned.csv\", index=False)"
   ],
   "metadata": {
    "collapsed": false,
    "is_executing": true,
    "ExecuteTime": {
     "start_time": "2024-12-08T12:16:14.141398600Z"
    }
   }
  }
 ],
 "metadata": {
  "kernelspec": {
   "display_name": "Python 3",
   "language": "python",
   "name": "python3"
  },
  "language_info": {
   "codemirror_mode": {
    "name": "ipython",
    "version": 2
   },
   "file_extension": ".py",
   "mimetype": "text/x-python",
   "name": "python",
   "nbconvert_exporter": "python",
   "pygments_lexer": "ipython2",
   "version": "2.7.6"
  }
 },
 "nbformat": 4,
 "nbformat_minor": 0
}
