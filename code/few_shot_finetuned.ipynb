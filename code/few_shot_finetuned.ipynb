{
 "cells": [
  {
   "cell_type": "code",
   "execution_count": 2,
   "metadata": {
    "collapsed": true,
    "ExecuteTime": {
     "end_time": "2024-12-08T12:16:02.607394800Z",
     "start_time": "2024-12-08T12:15:47.400854200Z"
    }
   },
   "outputs": [],
   "source": [
    "import json\n",
    "import os\n",
    "import pandas as pd\n",
    "from transformers import AutoTokenizer, T5ForConditionalGeneration\n",
    "from transformers import pipeline\n",
    "from datasets import Dataset\n",
    "from huggingface_hub import login\n",
    "from dotenv import load_dotenv"
   ]
  },
  {
   "cell_type": "code",
   "execution_count": null,
   "outputs": [],
   "source": [
    "# in order to load the model to hugging face we need the personal token\n",
    "# This is also need when loading the model\n",
    "# Uncomment if you are using Google Colab\n",
    "# from google.colab import userdata\n",
    "#\n",
    "# login(token=userdata.get('HF_TOKEN'))\n",
    "# load_dotenv()  # Load variables from the .env file\n",
    "secret_token = os.getenv(\"HF_TOKEN\")\n",
    "login(token=secret_token)"
   ],
   "metadata": {
    "collapsed": false
   }
  },
  {
   "cell_type": "code",
   "execution_count": 3,
   "outputs": [],
   "source": [
    "# Load the test set\n",
    "with open('../data/test_TLQA.json', 'r') as f:\n",
    "    test_data = json.load(f)\n",
    "\n",
    "# Load the train set\n",
    "with open('../data/train_TLQA.json', 'r') as f:\n",
    "    train_data = json.load(f)\n",
    "\n",
    "# Get the necessary details from the input\n",
    "def prepare_dataset(data):\n",
    "    questions, answers = [], []\n",
    "    for item in data:\n",
    "        question = item['question']\n",
    "        answer = '; '.join(item['final_answers'])\n",
    "        questions.append(question)\n",
    "        answers.append(answer)\n",
    "    return {\"question\": questions, \"answer\": answers}\n",
    "\n",
    "test_dataset_dict = prepare_dataset(test_data)\n",
    "test_dataset = Dataset.from_dict(test_dataset_dict)\n",
    "\n",
    "train_dataset_dict = prepare_dataset(train_data)\n",
    "train_dataset = Dataset.from_dict(train_dataset_dict)\n",
    "\n",
    "# Create a new DataFrame\n",
    "df = pd.DataFrame()\n",
    "df[\"question\"] = test_dataset_dict[\"question\"]\n",
    "df[\"answer\"] = test_dataset_dict[\"answer\"]"
   ],
   "metadata": {
    "collapsed": false,
    "ExecuteTime": {
     "end_time": "2024-12-08T12:16:04.822644100Z",
     "start_time": "2024-12-08T12:16:04.726025800Z"
    }
   }
  },
  {
   "cell_type": "code",
   "execution_count": 6,
   "outputs": [
    {
     "data": {
      "text/plain": "modules.json:   0%|          | 0.00/349 [00:00<?, ?B/s]",
      "application/vnd.jupyter.widget-view+json": {
       "version_major": 2,
       "version_minor": 0,
       "model_id": "1117d6fe433a40bd8315396f78007b15"
      }
     },
     "metadata": {},
     "output_type": "display_data"
    },
    {
     "name": "stderr",
     "output_type": "stream",
     "text": [
      "C:\\Users\\Adina\\Desktop\\NLP\\Timeline-based-List-Question-Answering\\envv\\Lib\\site-packages\\huggingface_hub\\file_download.py:139: UserWarning: `huggingface_hub` cache-system uses symlinks by default to efficiently store duplicated files but your machine does not support them in C:\\Users\\Adina\\.cache\\huggingface\\hub\\models--sentence-transformers--all-MiniLM-L6-v2. Caching files will still work but in a degraded version that might require more space on your disk. This warning can be disabled by setting the `HF_HUB_DISABLE_SYMLINKS_WARNING` environment variable. For more details, see https://huggingface.co/docs/huggingface_hub/how-to-cache#limitations.\n",
      "To support symlinks on Windows, you either need to activate Developer Mode or to run Python as an administrator. In order to activate developer mode, see this article: https://docs.microsoft.com/en-us/windows/apps/get-started/enable-your-device-for-development\n",
      "  warnings.warn(message)\n"
     ]
    },
    {
     "data": {
      "text/plain": "config_sentence_transformers.json:   0%|          | 0.00/116 [00:00<?, ?B/s]",
      "application/vnd.jupyter.widget-view+json": {
       "version_major": 2,
       "version_minor": 0,
       "model_id": "cf441f2ece3f427599e7e0a6a658589c"
      }
     },
     "metadata": {},
     "output_type": "display_data"
    },
    {
     "data": {
      "text/plain": "README.md:   0%|          | 0.00/10.7k [00:00<?, ?B/s]",
      "application/vnd.jupyter.widget-view+json": {
       "version_major": 2,
       "version_minor": 0,
       "model_id": "4d98e9dd7ae748b5969f190c3fe05bfa"
      }
     },
     "metadata": {},
     "output_type": "display_data"
    },
    {
     "data": {
      "text/plain": "sentence_bert_config.json:   0%|          | 0.00/53.0 [00:00<?, ?B/s]",
      "application/vnd.jupyter.widget-view+json": {
       "version_major": 2,
       "version_minor": 0,
       "model_id": "b0d052b1446d4eb1b97c5e5c9a4c27f0"
      }
     },
     "metadata": {},
     "output_type": "display_data"
    },
    {
     "data": {
      "text/plain": "config.json:   0%|          | 0.00/612 [00:00<?, ?B/s]",
      "application/vnd.jupyter.widget-view+json": {
       "version_major": 2,
       "version_minor": 0,
       "model_id": "e94addd10f0a4e64af1fde9d8d9123c5"
      }
     },
     "metadata": {},
     "output_type": "display_data"
    },
    {
     "data": {
      "text/plain": "model.safetensors:   0%|          | 0.00/90.9M [00:00<?, ?B/s]",
      "application/vnd.jupyter.widget-view+json": {
       "version_major": 2,
       "version_minor": 0,
       "model_id": "c60a9b5680564a38a3108ea71a5ac9ac"
      }
     },
     "metadata": {},
     "output_type": "display_data"
    },
    {
     "data": {
      "text/plain": "tokenizer_config.json:   0%|          | 0.00/350 [00:00<?, ?B/s]",
      "application/vnd.jupyter.widget-view+json": {
       "version_major": 2,
       "version_minor": 0,
       "model_id": "d0cca8550d5f43cc9d2f8a0a1590a63e"
      }
     },
     "metadata": {},
     "output_type": "display_data"
    },
    {
     "data": {
      "text/plain": "vocab.txt:   0%|          | 0.00/232k [00:00<?, ?B/s]",
      "application/vnd.jupyter.widget-view+json": {
       "version_major": 2,
       "version_minor": 0,
       "model_id": "da73d54936db4a08ac9c90f53204777e"
      }
     },
     "metadata": {},
     "output_type": "display_data"
    },
    {
     "data": {
      "text/plain": "tokenizer.json:   0%|          | 0.00/466k [00:00<?, ?B/s]",
      "application/vnd.jupyter.widget-view+json": {
       "version_major": 2,
       "version_minor": 0,
       "model_id": "f87acd8d22114f27bf080a14301c0f4a"
      }
     },
     "metadata": {},
     "output_type": "display_data"
    },
    {
     "data": {
      "text/plain": "special_tokens_map.json:   0%|          | 0.00/112 [00:00<?, ?B/s]",
      "application/vnd.jupyter.widget-view+json": {
       "version_major": 2,
       "version_minor": 0,
       "model_id": "52b53a77e6eb4f2f9519d9fbe1593149"
      }
     },
     "metadata": {},
     "output_type": "display_data"
    },
    {
     "data": {
      "text/plain": "1_Pooling/config.json:   0%|          | 0.00/190 [00:00<?, ?B/s]",
      "application/vnd.jupyter.widget-view+json": {
       "version_major": 2,
       "version_minor": 0,
       "model_id": "2ff9a247a74042d1985fddfb01790166"
      }
     },
     "metadata": {},
     "output_type": "display_data"
    }
   ],
   "source": [
    "from components.knn import KNN\n",
    "\n",
    "k_value = 3\n",
    "knn_classifier = KNN(k=k_value)\n",
    "\n",
    "# Train the knn classifier on the train data\n",
    "knn_classifier.fit(train_dataset_dict[\"question\"], train_dataset_dict[\"answer\"])"
   ],
   "metadata": {
    "collapsed": false,
    "ExecuteTime": {
     "end_time": "2024-12-08T12:10:20.166469100Z",
     "start_time": "2024-12-08T12:09:57.009113Z"
    }
   }
  },
  {
   "cell_type": "code",
   "execution_count": null,
   "outputs": [],
   "source": [
    "hub_repo = \"Ana091202/flan_t5_timeline_qa\" # this is the large model\n",
    "# hub_repo = \"Ana091202/flan_t5_base_timeline_qa\"\n",
    "model = \"large\"\n",
    "\n",
    "tokenizer = AutoTokenizer.from_pretrained(hub_repo)\n",
    "finetuned_model = T5ForConditionalGeneration.from_pretrained(hub_repo)\n",
    "\n",
    "pipe = pipeline(\n",
    "    \"text2text-generation\",\n",
    "    model=finetuned_model, max_new_tokens=256,\n",
    "    tokenizer=tokenizer,\n",
    "    do_sample=True,\n",
    "    temperature=1e-5,\n",
    "    top_p=0.9,\n",
    "    device=0\n",
    ")\n",
    "\n",
    "results = []\n",
    "\n",
    "# Prompt for each instance in the test set\n",
    "for prompt_question in df[\"question\"]:\n",
    "    # Select few shot examples using the knn classifier\n",
    "    closest_prompts = knn_classifier.query(prompt_question)\n",
    "    few_shot_examples = examples = \"\\n\".join(\n",
    "        f\"Example:\\n  Question: {closest_prompts_question}\\n  Answer: {closest_prompts_answers}\" for closest_prompts_question, closest_prompts_answers in closest_prompts\n",
    "    )\n",
    "\n",
    "    prompt = f\"\"\"\n",
    "    Generate a timeline-based answer for the following question by listing all entities, events, or attributes associated with the specified subject and time range. Ensure the output is in a structured, ordered format that reflects the temporal sequence accurately.\n",
    "\n",
    "    {few_shot_examples}\n",
    "\n",
    "    Now, answer the following question:\n",
    "    Question: {prompt_question}\n",
    "    Answer:\n",
    "    \"\"\"\n",
    "\n",
    "    generated_response = pipe(prompt.strip())[0]['generated_text']\n",
    "\n",
    "    results.append({\n",
    "        \"question\": prompt_question,\n",
    "        \"response\": generated_response,\n",
    "        \"examples\": few_shot_examples\n",
    "    })\n",
    "\n",
    "results_df = pd.DataFrame(results)\n",
    "\n",
    "results_df.to_csv(f\"few_shot_knn_{k_value}_{model}_finetuned.csv\", index=False)"
   ],
   "metadata": {
    "collapsed": false,
    "is_executing": true,
    "ExecuteTime": {
     "start_time": "2024-12-08T12:16:14.141398600Z"
    }
   }
  }
 ],
 "metadata": {
  "kernelspec": {
   "display_name": "Python 3",
   "language": "python",
   "name": "python3"
  },
  "language_info": {
   "codemirror_mode": {
    "name": "ipython",
    "version": 2
   },
   "file_extension": ".py",
   "mimetype": "text/x-python",
   "name": "python",
   "nbconvert_exporter": "python",
   "pygments_lexer": "ipython2",
   "version": "2.7.6"
  }
 },
 "nbformat": 4,
 "nbformat_minor": 0
}
