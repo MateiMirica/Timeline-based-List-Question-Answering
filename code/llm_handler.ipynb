{
 "cells": [
  {
   "cell_type": "code",
   "execution_count": 11,
   "id": "0ab8ccc9-64b1-433a-8ca6-0582a527e761",
   "metadata": {},
   "outputs": [],
   "source": [
    "import torch\n",
    "from transformers import AutoTokenizer, AutoModelForSeq2SeqLM"
   ]
  },
  {
   "cell_type": "code",
   "execution_count": 12,
   "id": "42837449-7363-42cf-88dd-55c1f94c6a21",
   "metadata": {},
   "outputs": [],
   "source": [
    "def flan_large(input_text: str) -> str:\n",
    "\n",
    "    device = torch.device('cuda' if torch.cuda.is_available() else 'cpu')\n",
    "\n",
    "    tokenizer = AutoTokenizer.from_pretrained(\"google/flan-t5-large\")\n",
    "    model = AutoModelForSeq2SeqLM.from_pretrained(\"google/flan-t5-large\")\n",
    "    model.to(device)\n",
    "\n",
    "    inputs = tokenizer(input_text, return_tensors=\"pt\").to(device)\n",
    "\n",
    "    outputs = model.generate(**inputs)\n",
    "    output_text = tokenizer.decode(outputs[0], skip_special_tokens=True)\n",
    "\n",
    "    return output_text\n",
    "\n",
    "def flan_xl(input_text: str) -> str:\n",
    "    tokenizer = AutoTokenizer.from_pretrained(\"google/flan-t5-xl\")\n",
    "    model = AutoModelForSeq2SeqLM.from_pretrained(\"google/flan-t5-xl\")\n",
    "    \n",
    "    model.to(device)\n",
    "\n",
    "    inputs = tokenizer(input_text, return_tensors=\"pt\").to(device)\n",
    "\n",
    "    outputs = model.generate(**inputs)\n",
    "    output_text = tokenizer.decode(outputs[0], skip_special_tokens=True)\n",
    "\n",
    "    return output_text"
   ]
  },
  {
   "cell_type": "code",
   "execution_count": 13,
   "id": "2c6b0c15-cec6-4445-aafc-38d7d0b53d38",
   "metadata": {},
   "outputs": [
    {
     "data": {
      "text/plain": [
       "'« Bienvenue, monde.»'"
      ]
     },
     "execution_count": 13,
     "metadata": {},
     "output_type": "execute_result"
    }
   ],
   "source": [
    "flan_large(input_text = \"Translate the following English text to French: 'Hello, world.'\")"
   ]
  }
 ],
 "metadata": {
  "kernelspec": {
   "display_name": "Python 3 (ipykernel)",
   "language": "python",
   "name": "python3"
  },
  "language_info": {
   "codemirror_mode": {
    "name": "ipython",
    "version": 3
   },
   "file_extension": ".py",
   "mimetype": "text/x-python",
   "name": "python",
   "nbconvert_exporter": "python",
   "pygments_lexer": "ipython3",
   "version": "3.10.14"
  }
 },
 "nbformat": 4,
 "nbformat_minor": 5
}
