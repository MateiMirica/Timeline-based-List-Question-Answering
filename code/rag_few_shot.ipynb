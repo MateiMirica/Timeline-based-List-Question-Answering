{
 "cells": [
  {
   "cell_type": "code",
   "execution_count": 2,
   "metadata": {
    "collapsed": true,
    "ExecuteTime": {
     "end_time": "2024-12-28T14:27:30.626194400Z",
     "start_time": "2024-12-28T14:27:30.620207400Z"
    }
   },
   "outputs": [],
   "source": [
    "import json\n",
    "import pandas as pd\n",
    "from transformers import AutoTokenizer, AutoModelForSeq2SeqLM\n",
    "from transformers import pipeline\n",
    "from datasets import Dataset\n",
    "from tqdm import tqdm"
   ]
  },
  {
   "cell_type": "code",
   "execution_count": 3,
   "outputs": [],
   "source": [
    "# Load the test set\n",
    "with open('../data/test_TLQA.json', 'r') as f:\n",
    "    test_data = json.load(f)\n",
    "\n",
    "# Load the train set\n",
    "with open('../data/train_TLQA.json', 'r') as f:\n",
    "    train_data = json.load(f)\n",
    "\n",
    "# Load the contexts\n",
    "with open('../data/preprocessed_contexts.json', 'r') as f:\n",
    "    context_data = json.load(f)\n",
    "\n",
    "# Get the necessary details from the input\n",
    "def prepare_dataset(data):\n",
    "    questions, answers = [], []\n",
    "    for item in data:\n",
    "        question = item['question']\n",
    "        answer = '; '.join(item['final_answers'])\n",
    "        questions.append(question)\n",
    "        answers.append(answer)\n",
    "    return {\"question\": questions, \"answer\": answers}\n",
    "\n",
    "test_dataset_dict = prepare_dataset(test_data)\n",
    "test_dataset = Dataset.from_dict(test_dataset_dict)\n",
    "\n",
    "train_dataset_dict = prepare_dataset(train_data)\n",
    "train_dataset = Dataset.from_dict(train_dataset_dict)\n",
    "\n",
    "# Create a new DataFrame\n",
    "df = pd.DataFrame()\n",
    "df[\"question\"] = test_dataset_dict[\"question\"]\n",
    "df[\"answer\"] = test_dataset_dict[\"answer\"]\n",
    "df[\"context\"] = df[\"question\"].map(context_data)"
   ],
   "metadata": {
    "collapsed": false,
    "ExecuteTime": {
     "end_time": "2024-12-28T14:27:30.740549600Z",
     "start_time": "2024-12-28T14:27:30.625196Z"
    }
   }
  },
  {
   "cell_type": "code",
   "execution_count": 4,
   "outputs": [],
   "source": [
    "from components.knn import KNN\n",
    "\n",
    "k_value = 3\n",
    "knn_classifier = KNN(k=k_value)\n",
    "\n",
    "# Train the knn classifier on the train data\n",
    "knn_classifier.fit(train_dataset_dict[\"question\"], train_dataset_dict[\"answer\"])"
   ],
   "metadata": {
    "collapsed": false,
    "ExecuteTime": {
     "end_time": "2024-12-28T14:27:41.777089900Z",
     "start_time": "2024-12-28T14:27:30.742545700Z"
    }
   }
  },
  {
   "cell_type": "code",
   "execution_count": null,
   "outputs": [],
   "source": [
    "# Create a summarization pipeline for the context\n",
    "summarizer = pipeline(\"summarization\", model=\"facebook/bart-large-cnn\", device=0)\n",
    "\n",
    "# Create a tokenizer for the context\n",
    "tokenizer = AutoTokenizer.from_pretrained(\"facebook/bart-large-cnn\")"
   ],
   "metadata": {
    "collapsed": false
   }
  },
  {
   "cell_type": "code",
   "execution_count": null,
   "outputs": [],
   "source": [
    "model = \"google/flan-t5-xl\"\n",
    "pipe = pipeline(\n",
    "    \"text2text-generation\",\n",
    "    model=model, max_new_tokens=415,\n",
    "    tokenizer=AutoTokenizer.from_pretrained(model),\n",
    "    do_sample=True,\n",
    "    temperature=1e-5,\n",
    "    top_p=0.9,\n",
    "    device=0\n",
    ")\n",
    "\n",
    "results = []\n",
    "\n",
    "max_length_context = 90\n",
    "\n",
    "k_context = 10\n",
    "\n",
    "# Prompt for each instance in the test set\n",
    "for i, prompt_question in enumerate(tqdm(df[\"question\"], desc=\"Processing Questions\")):\n",
    "    # Select few shot examples using the knn classifier\n",
    "    closest_prompts = knn_classifier.query(prompt_question)\n",
    "    few_shot_examples = examples = \"\\n\".join(\n",
    "        f\"Example:\\n  Question: {closest_prompts_question}\\n  Answer: {closest_prompts_answers}\" for closest_prompts_question, closest_prompts_answers in closest_prompts\n",
    "    )\n",
    "\n",
    "    top_k_contexts = df[\"context\"].iloc[i][:k_context]\n",
    "    top_k_contexts = [ctx.replace(\"\\n\", \" \") for ctx in top_k_contexts]\n",
    "\n",
    "    # Summarize each context individually\n",
    "    summarized_contexts = []\n",
    "    for ctx in top_k_contexts:\n",
    "        # Tokenize the context\n",
    "        tokenized_context = tokenizer(ctx, return_tensors=\"pt\", truncation=False)\n",
    "        token_length = len(tokenized_context[\"input_ids\"][0])\n",
    "\n",
    "        # Summarize if the context is too long\n",
    "        if token_length > max_length_context:\n",
    "            summarized_content = summarizer(ctx, max_length=max_length_context, min_length=30, truncation=True)[0][\"summary_text\"]\n",
    "            summarized_contexts.append(summarized_content)\n",
    "        else:\n",
    "            summarized_contexts.append(ctx)\n",
    "\n",
    "    # Combine summarized contexts\n",
    "    combined_summaries = \" \".join(summarized_contexts)\n",
    "\n",
    "\n",
    "    prompt = f\"\"\"\n",
    "    Generate a timeline-based answer for the following question by listing all entities, events, or attributes associated with the specified subject and time range. Ensure the output is in a structured, ordered format that reflects the temporal sequence accurately.\n",
    "\n",
    "    You are given additional context about the query. Use the context as additional information to answer the query.\n",
    "\n",
    "    Context:\n",
    "\n",
    "    {combined_summaries}\n",
    "\n",
    "    {few_shot_examples}\n",
    "\n",
    "    Now, answer the following question:\n",
    "    Question: {prompt_question}\n",
    "    Answer:\n",
    "    \"\"\"\n",
    "\n",
    "    generated_response = pipe(prompt.strip())[0]['generated_text']\n",
    "\n",
    "    results.append({\n",
    "        \"question\": prompt_question,\n",
    "        \"response\": generated_response,\n",
    "        \"context\": top_k_contexts,\n",
    "        \"examples\": few_shot_examples\n",
    "    })\n",
    "\n",
    "results_df = pd.DataFrame(results)"
   ],
   "metadata": {
    "collapsed": false,
    "is_executing": true,
    "ExecuteTime": {
     "start_time": "2024-12-28T14:30:21.355540400Z"
    }
   }
  },
  {
   "cell_type": "code",
   "execution_count": null,
   "outputs": [],
   "source": [
    "results_df.to_csv(f\"../results/rag_top_{k_context}_few_shot_knn_{k_value}_xl.csv\", index=False)"
   ],
   "metadata": {
    "collapsed": false
   }
  }
 ],
 "metadata": {
  "kernelspec": {
   "display_name": "Python 3",
   "language": "python",
   "name": "python3"
  },
  "language_info": {
   "codemirror_mode": {
    "name": "ipython",
    "version": 2
   },
   "file_extension": ".py",
   "mimetype": "text/x-python",
   "name": "python",
   "nbconvert_exporter": "python",
   "pygments_lexer": "ipython2",
   "version": "2.7.6"
  }
 },
 "nbformat": 4,
 "nbformat_minor": 0
}
