{
 "cells": [
  {
   "cell_type": "code",
   "execution_count": null,
   "metadata": {
    "collapsed": true
   },
   "outputs": [],
   "source": [
    "import json\n",
    "import os\n",
    "import pandas as pd\n",
    "from transformers import AutoTokenizer, T5ForConditionalGeneration\n",
    "from transformers import pipeline\n",
    "from datasets import Dataset\n",
    "from huggingface_hub import login\n",
    "from tqdm import tqdm"
   ]
  },
  {
   "cell_type": "code",
   "execution_count": null,
   "outputs": [],
   "source": [
    "# In order to load the model to hugging face we need the personal token\n",
    "# This is also needed when loading the model\n",
    "# Uncomment if you are using Google Colab\n",
    "# from google.colab import userdata\n",
    "\n",
    "secret_token = os.getenv(\"HF_TOKEN\")\n",
    "login(token=secret_token)"
   ],
   "metadata": {
    "collapsed": false
   }
  },
  {
   "cell_type": "code",
   "execution_count": null,
   "outputs": [],
   "source": [
    "# Load the test set\n",
    "with open('../data/test_TLQA.json', 'r') as f:\n",
    "    test_data = json.load(f)\n",
    "\n",
    "# Load the train set\n",
    "with open('../data/train_TLQA.json', 'r') as f:\n",
    "    train_data = json.load(f)\n",
    "\n",
    "# Load the contexts\n",
    "with open('../data/preprocessed_contexts.json', 'r') as f:\n",
    "    context_data = json.load(f)\n",
    "\n",
    "# Get the necessary details from the input\n",
    "def prepare_dataset(data):\n",
    "    questions, answers = [], []\n",
    "    for item in data:\n",
    "        question = item['question']\n",
    "        answer = '; '.join(item['final_answers'])\n",
    "        questions.append(question)\n",
    "        answers.append(answer)\n",
    "    return {\"question\": questions, \"answer\": answers}\n",
    "\n",
    "test_dataset_dict = prepare_dataset(test_data)\n",
    "test_dataset = Dataset.from_dict(test_dataset_dict)\n",
    "\n",
    "train_dataset_dict = prepare_dataset(train_data)\n",
    "train_dataset = Dataset.from_dict(train_dataset_dict)\n",
    "\n",
    "# Create a new DataFrame\n",
    "df = pd.DataFrame()\n",
    "df[\"question\"] = test_dataset_dict[\"question\"]\n",
    "df[\"answer\"] = test_dataset_dict[\"answer\"]\n",
    "df[\"context\"] = df[\"question\"].map(context_data)"
   ],
   "metadata": {
    "collapsed": false
   }
  },
  {
   "cell_type": "code",
   "execution_count": null,
   "outputs": [],
   "source": [
    "from components.knn import KNN\n",
    "\n",
    "k_value = 3\n",
    "knn_classifier = KNN(k=k_value)\n",
    "\n",
    "# Train the knn classifier on the train data\n",
    "knn_classifier.fit(train_dataset_dict[\"question\"], train_dataset_dict[\"answer\"])"
   ],
   "metadata": {
    "collapsed": false
   }
  },
  {
   "cell_type": "code",
   "execution_count": null,
   "outputs": [],
   "source": [
    "from transformers import AutoTokenizer, T5ForConditionalGeneration, AutoModelForSeq2SeqLM\n",
    "from safetensors.torch import load_file\n",
    "\n",
    "# Define repositories\n",
    "# hub_repo = \"Ana091202/flan_t5_timeline_qa\"  # Your adapter model\n",
    "hub_repo = \"Ana091202/flan_t5_base_timeline_qa\"\n",
    "model = \"base\"\n",
    "\n",
    "# Load tokenizer and base model\n",
    "tokenizer = AutoTokenizer.from_pretrained(hub_repo)\n",
    "finetuned_model = T5ForConditionalGeneration.from_pretrained(hub_repo)"
   ],
   "metadata": {
    "collapsed": false
   }
  },
  {
   "cell_type": "code",
   "execution_count": null,
   "outputs": [],
   "source": [
    "finetuned_model.eval()"
   ],
   "metadata": {
    "collapsed": false
   }
  },
  {
   "cell_type": "code",
   "execution_count": null,
   "outputs": [],
   "source": [
    "# Create a summarization pipeline for the context\n",
    "model_name = \"facebook/bart-large-cnn\"\n",
    "summary_tokenizer = AutoTokenizer.from_pretrained(model_name)\n",
    "summarizer_model = AutoModelForSeq2SeqLM.from_pretrained(model_name).to(\"cuda:0\")\n",
    "\n",
    "# Create the pipeline using the initialized model and tokenizer\n",
    "summarizer = pipeline(\"summarization\", model=summarizer_model, tokenizer=AutoTokenizer.from_pretrained(\"google/flan-t5-large\"), device=0)"
   ],
   "metadata": {
    "collapsed": false
   }
  },
  {
   "cell_type": "code",
   "execution_count": null,
   "outputs": [],
   "source": [
    "pipe = pipeline(\n",
    "    \"text2text-generation\",\n",
    "    model=finetuned_model, max_new_tokens=256,\n",
    "    tokenizer=tokenizer,\n",
    "    do_sample=True,\n",
    "    temperature=1e-5,\n",
    "    top_p=0.9,\n",
    "    device=0\n",
    ")\n",
    "\n",
    "results = []\n",
    "\n",
    "max_length_context = 90\n",
    "\n",
    "k_context = 10\n",
    "\n",
    "# Prompt for each instance in the test set\n",
    "for i, prompt_question in enumerate(tqdm(df[\"question\"], desc=\"Processing Questions\")):\n",
    "    # Select few shot examples using the knn classifier\n",
    "    closest_prompts = knn_classifier.query(prompt_question)\n",
    "    few_shot_examples = examples = \"\\n\".join(\n",
    "        f\"Example:\\n  Question: {closest_prompts_question}\\n  Answer: {closest_prompts_answers}\" for closest_prompts_question, closest_prompts_answers in closest_prompts\n",
    "    )\n",
    "\n",
    "    top_k_contexts = df[\"context\"].iloc[i][:k_context]\n",
    "    top_k_contexts = [ctx.replace(\"\\n\", \" \") for ctx in top_k_contexts]\n",
    "\n",
    "    # Summarize each context individually\n",
    "    summarized_contexts = []\n",
    "    for ctx in top_k_contexts:\n",
    "        # Tokenize the context\n",
    "        tokenized_context = tokenizer(ctx, return_tensors=\"pt\", truncation=False)\n",
    "        token_length = len(tokenized_context[\"input_ids\"][0])\n",
    "\n",
    "        # Summarize if the context is too long\n",
    "        if token_length > max_length_context:\n",
    "            summarized_content = summarizer(ctx, max_length=max_length_context, min_length=30, truncation=True)[0][\"summary_text\"]\n",
    "            summarized_contexts.append(summarized_content)\n",
    "        else:\n",
    "            summarized_contexts.append(ctx)\n",
    "\n",
    "    # Combine summarized contexts\n",
    "    combined_summaries = \" \".join(summarized_contexts)\n",
    "\n",
    "\n",
    "    prompt = f\"\"\"\n",
    "    Generate a timeline-based answer for the following question by listing all entities, events, or attributes associated with the specified subject and time range. Ensure the output is in a structured, ordered format that reflects the temporal sequence accurately.\n",
    "\n",
    "    You are given additional context about the query. Use the context as additional information to answer the query.\n",
    "\n",
    "    Context:\n",
    "\n",
    "    {combined_summaries}\n",
    "\n",
    "    {few_shot_examples}\n",
    "\n",
    "    Now, answer the following question:\n",
    "    Question: {prompt_question}\n",
    "    Answer:\n",
    "    \"\"\"\n",
    "\n",
    "    generated_response = pipe(prompt.strip())[0]['generated_text']\n",
    "\n",
    "    results.append({\n",
    "        \"question\": prompt_question,\n",
    "        \"response\": generated_response,\n",
    "        \"context\": top_k_contexts,\n",
    "        \"examples\": few_shot_examples\n",
    "    })\n",
    "\n",
    "results_df = pd.DataFrame(results)"
   ],
   "metadata": {
    "collapsed": false
   }
  },
  {
   "cell_type": "code",
   "execution_count": null,
   "outputs": [],
   "source": [
    "results_df.to_csv(f\"../results/rag_top_{k_context}_few_shot_{k_value}_{model}_finetuned.csv\", index=False)"
   ],
   "metadata": {
    "collapsed": false
   }
  }
 ],
 "metadata": {
  "kernelspec": {
   "display_name": "Python 3",
   "language": "python",
   "name": "python3"
  },
  "language_info": {
   "codemirror_mode": {
    "name": "ipython",
    "version": 2
   },
   "file_extension": ".py",
   "mimetype": "text/x-python",
   "name": "python",
   "nbconvert_exporter": "python",
   "pygments_lexer": "ipython2",
   "version": "2.7.6"
  }
 },
 "nbformat": 4,
 "nbformat_minor": 0
}
